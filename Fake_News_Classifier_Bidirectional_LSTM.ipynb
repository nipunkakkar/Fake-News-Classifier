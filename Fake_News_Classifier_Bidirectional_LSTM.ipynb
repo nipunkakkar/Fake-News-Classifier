{
  "nbformat": 4,
  "nbformat_minor": 0,
  "metadata": {
    "colab": {
      "name": "Fake News Classifier Bidirectional LSTM.ipynb",
      "provenance": [],
      "collapsed_sections": [],
      "toc_visible": true
    },
    "kernelspec": {
      "name": "python3",
      "display_name": "Python 3"
    },
    "accelerator": "GPU"
  },
  "cells": [
    {
      "cell_type": "markdown",
      "metadata": {
        "id": "v3EMbsnlNc_n",
        "colab_type": "text"
      },
      "source": [
        "**Problem Statement**\n",
        "\n",
        "This is a problem to identify wheather a given news is fake or real.\n",
        "The Indepedent variables or factors used here can be title of news or news lines themselves.\n",
        "We will be looking at different model to solve this problem.\n",
        "In this notebook we will using RNN Bidirectional LSTM deep learning model."
      ]
    },
    {
      "cell_type": "markdown",
      "metadata": {
        "id": "MrBM4Tt1N-fy",
        "colab_type": "text"
      },
      "source": [
        "**Dataset**\n",
        "\n",
        "The dataset for news is taken from Kaggle https://www.kaggle.com/c/fake-news/.\n",
        "The dataset is quite huge containing thousands of rows, we expect our model to be highly accurate."
      ]
    },
    {
      "cell_type": "markdown",
      "metadata": {
        "id": "g-u-Lbc5OFnS",
        "colab_type": "text"
      },
      "source": [
        "# Step 1 - Importing the libraries"
      ]
    },
    {
      "cell_type": "code",
      "metadata": {
        "id": "H2r8jY47OIHA",
        "colab_type": "code",
        "colab": {}
      },
      "source": [
        "import numpy as np\n",
        "import pandas as pd\n",
        "import matplotlib.pyplot as plt\n",
        "import tensorflow as tf\n",
        "from tensorflow.keras.layers import Input, LSTM, Bidirectional, Dense, Dropout, Embedding, GlobalMaxPooling1D\n",
        "from tensorflow.keras.models import Model\n",
        "from tensorflow.keras.preprocessing.text import Tokenizer\n",
        "from tensorflow.keras.preprocessing.sequence import pad_sequences"
      ],
      "execution_count": 16,
      "outputs": []
    },
    {
      "cell_type": "markdown",
      "metadata": {
        "id": "HvzmxC4YOVr1",
        "colab_type": "text"
      },
      "source": [
        "# Step 2 - Importing the dataset"
      ]
    },
    {
      "cell_type": "code",
      "metadata": {
        "id": "NJATHQwOOX-9",
        "colab_type": "code",
        "colab": {
          "base_uri": "https://localhost:8080/",
          "height": 197
        },
        "outputId": "d08a6628-1cee-4f41-9fb4-bfd83f686187"
      },
      "source": [
        "data = pd.read_csv('/content/drive/My Drive/Data Science Projects/Dataset Fakenews.csv') # 1 is for fake 0 for real\n",
        "data.head()"
      ],
      "execution_count": 3,
      "outputs": [
        {
          "output_type": "execute_result",
          "data": {
            "text/html": [
              "<div>\n",
              "<style scoped>\n",
              "    .dataframe tbody tr th:only-of-type {\n",
              "        vertical-align: middle;\n",
              "    }\n",
              "\n",
              "    .dataframe tbody tr th {\n",
              "        vertical-align: top;\n",
              "    }\n",
              "\n",
              "    .dataframe thead th {\n",
              "        text-align: right;\n",
              "    }\n",
              "</style>\n",
              "<table border=\"1\" class=\"dataframe\">\n",
              "  <thead>\n",
              "    <tr style=\"text-align: right;\">\n",
              "      <th></th>\n",
              "      <th>id</th>\n",
              "      <th>title</th>\n",
              "      <th>author</th>\n",
              "      <th>text</th>\n",
              "      <th>label</th>\n",
              "    </tr>\n",
              "  </thead>\n",
              "  <tbody>\n",
              "    <tr>\n",
              "      <th>0</th>\n",
              "      <td>0</td>\n",
              "      <td>House Dem Aide: We Didn’t Even See Comey’s Let...</td>\n",
              "      <td>Darrell Lucus</td>\n",
              "      <td>House Dem Aide: We Didn’t Even See Comey’s Let...</td>\n",
              "      <td>1</td>\n",
              "    </tr>\n",
              "    <tr>\n",
              "      <th>1</th>\n",
              "      <td>1</td>\n",
              "      <td>FLYNN: Hillary Clinton, Big Woman on Campus - ...</td>\n",
              "      <td>Daniel J. Flynn</td>\n",
              "      <td>Ever get the feeling your life circles the rou...</td>\n",
              "      <td>0</td>\n",
              "    </tr>\n",
              "    <tr>\n",
              "      <th>2</th>\n",
              "      <td>2</td>\n",
              "      <td>Why the Truth Might Get You Fired</td>\n",
              "      <td>Consortiumnews.com</td>\n",
              "      <td>Why the Truth Might Get You Fired October 29, ...</td>\n",
              "      <td>1</td>\n",
              "    </tr>\n",
              "    <tr>\n",
              "      <th>3</th>\n",
              "      <td>3</td>\n",
              "      <td>15 Civilians Killed In Single US Airstrike Hav...</td>\n",
              "      <td>Jessica Purkiss</td>\n",
              "      <td>Videos 15 Civilians Killed In Single US Airstr...</td>\n",
              "      <td>1</td>\n",
              "    </tr>\n",
              "    <tr>\n",
              "      <th>4</th>\n",
              "      <td>4</td>\n",
              "      <td>Iranian woman jailed for fictional unpublished...</td>\n",
              "      <td>Howard Portnoy</td>\n",
              "      <td>Print \\nAn Iranian woman has been sentenced to...</td>\n",
              "      <td>1</td>\n",
              "    </tr>\n",
              "  </tbody>\n",
              "</table>\n",
              "</div>"
            ],
            "text/plain": [
              "   id  ... label\n",
              "0   0  ...     1\n",
              "1   1  ...     0\n",
              "2   2  ...     1\n",
              "3   3  ...     1\n",
              "4   4  ...     1\n",
              "\n",
              "[5 rows x 5 columns]"
            ]
          },
          "metadata": {
            "tags": []
          },
          "execution_count": 3
        }
      ]
    },
    {
      "cell_type": "markdown",
      "metadata": {
        "id": "OWm5Yk4yOpwd",
        "colab_type": "text"
      },
      "source": [
        "# Step 3 - Dealing with null values"
      ]
    },
    {
      "cell_type": "code",
      "metadata": {
        "id": "kfllUVITOsCO",
        "colab_type": "code",
        "colab": {
          "base_uri": "https://localhost:8080/",
          "height": 123
        },
        "outputId": "3ddffad2-2efa-44c4-ef37-6ec2a3041e12"
      },
      "source": [
        "print(data.isnull().sum())\n",
        "data.dropna(inplace = True)\n",
        "data.reset_index(inplace = True)"
      ],
      "execution_count": 4,
      "outputs": [
        {
          "output_type": "stream",
          "text": [
            "id           0\n",
            "title      558\n",
            "author    1957\n",
            "text        39\n",
            "label        0\n",
            "dtype: int64\n"
          ],
          "name": "stdout"
        }
      ]
    },
    {
      "cell_type": "code",
      "metadata": {
        "id": "0NaLW2GpOx2V",
        "colab_type": "code",
        "colab": {
          "base_uri": "https://localhost:8080/",
          "height": 141
        },
        "outputId": "41362822-78ae-4acd-97e4-f1c23a92ab2d"
      },
      "source": [
        "print(data.isnull().sum())"
      ],
      "execution_count": 5,
      "outputs": [
        {
          "output_type": "stream",
          "text": [
            "index     0\n",
            "id        0\n",
            "title     0\n",
            "author    0\n",
            "text      0\n",
            "label     0\n",
            "dtype: int64\n"
          ],
          "name": "stdout"
        }
      ]
    },
    {
      "cell_type": "markdown",
      "metadata": {
        "id": "lljIJ2RNPAZO",
        "colab_type": "text"
      },
      "source": [
        "# Step 4 - Making independent variable X and dependent variable Y"
      ]
    },
    {
      "cell_type": "code",
      "metadata": {
        "id": "8eeoIcywPE4L",
        "colab_type": "code",
        "colab": {}
      },
      "source": [
        "X = data.iloc[:, 2] # Taking title as input\n",
        "Y = data.iloc[:, -1]"
      ],
      "execution_count": 6,
      "outputs": []
    },
    {
      "cell_type": "code",
      "metadata": {
        "id": "_UJcDNYFMxnf",
        "colab_type": "code",
        "colab": {
          "base_uri": "https://localhost:8080/",
          "height": 123
        },
        "outputId": "8453808f-ea51-4df7-a6e0-b4f18f6a0dd5"
      },
      "source": [
        "X.head()"
      ],
      "execution_count": 7,
      "outputs": [
        {
          "output_type": "execute_result",
          "data": {
            "text/plain": [
              "0    House Dem Aide: We Didn’t Even See Comey’s Let...\n",
              "1    FLYNN: Hillary Clinton, Big Woman on Campus - ...\n",
              "2                    Why the Truth Might Get You Fired\n",
              "3    15 Civilians Killed In Single US Airstrike Hav...\n",
              "4    Iranian woman jailed for fictional unpublished...\n",
              "Name: title, dtype: object"
            ]
          },
          "metadata": {
            "tags": []
          },
          "execution_count": 7
        }
      ]
    },
    {
      "cell_type": "code",
      "metadata": {
        "id": "ns-5nEIvPH2S",
        "colab_type": "code",
        "colab": {
          "base_uri": "https://localhost:8080/",
          "height": 123
        },
        "outputId": "7b16a7da-dba4-4c3b-8929-299a9f6f0c54"
      },
      "source": [
        "Y.head()"
      ],
      "execution_count": 8,
      "outputs": [
        {
          "output_type": "execute_result",
          "data": {
            "text/plain": [
              "0    1\n",
              "1    0\n",
              "2    1\n",
              "3    1\n",
              "4    1\n",
              "Name: label, dtype: int64"
            ]
          },
          "metadata": {
            "tags": []
          },
          "execution_count": 8
        }
      ]
    },
    {
      "cell_type": "markdown",
      "metadata": {
        "id": "SVGFUQ3-Qpdd",
        "colab_type": "text"
      },
      "source": [
        "# Step 5 - Splitting dataset into Training and Test"
      ]
    },
    {
      "cell_type": "code",
      "metadata": {
        "id": "Njh5_-2rQsUh",
        "colab_type": "code",
        "colab": {}
      },
      "source": [
        "from sklearn.model_selection import train_test_split\n",
        "X_train,X_test,Y_train,Y_test=train_test_split(X, Y, test_size = 0.20, random_state = 0)"
      ],
      "execution_count": 9,
      "outputs": []
    },
    {
      "cell_type": "markdown",
      "metadata": {
        "id": "I_qZTHe-NH8z",
        "colab_type": "text"
      },
      "source": [
        "# Step 6 - Tokenizing the data"
      ]
    },
    {
      "cell_type": "code",
      "metadata": {
        "id": "iBXP3YaXNrAK",
        "colab_type": "code",
        "colab": {}
      },
      "source": [
        "MAX_VOCAB_SIZE = 5000\n",
        "tokenizer = Tokenizer(num_words = MAX_VOCAB_SIZE)\n",
        "tokenizer.fit_on_texts(X_train)\n",
        "X_train = tokenizer.texts_to_sequences(X_train)\n",
        "X_test = tokenizer.texts_to_sequences(X_test)\n",
        "\n",
        "wordsindices = (tokenizer.word_index)\n",
        "\n",
        "uniquetokens = len(wordsindices)"
      ],
      "execution_count": 10,
      "outputs": []
    },
    {
      "cell_type": "code",
      "metadata": {
        "id": "vVvlmt2GQanZ",
        "colab_type": "code",
        "colab": {
          "base_uri": "https://localhost:8080/",
          "height": 34
        },
        "outputId": "86a2efab-e072-4c78-b1a5-baaa9ea93112"
      },
      "source": [
        "print(uniquetokens)"
      ],
      "execution_count": 11,
      "outputs": [
        {
          "output_type": "stream",
          "text": [
            "22880\n"
          ],
          "name": "stdout"
        }
      ]
    },
    {
      "cell_type": "markdown",
      "metadata": {
        "id": "lTHnfjIhQreD",
        "colab_type": "text"
      },
      "source": [
        "# Step 7 - Padding Sequences"
      ]
    },
    {
      "cell_type": "code",
      "metadata": {
        "id": "eYXZt22JQtgr",
        "colab_type": "code",
        "colab": {}
      },
      "source": [
        "X_train = pad_sequences(X_train) # Padding sequences to make tham of equal length\n",
        "\n",
        "T = X_train.shape[1]\n",
        "\n",
        "X_test = pad_sequences(X_test, maxlen = T) #Paddking according to size of X_train to make it equal\n"
      ],
      "execution_count": 14,
      "outputs": []
    },
    {
      "cell_type": "markdown",
      "metadata": {
        "id": "41rQlo4TQwx9",
        "colab_type": "text"
      },
      "source": [
        "# Step 8 - Creating Deep Learning RNN Bidirectional LSTM model"
      ]
    },
    {
      "cell_type": "code",
      "metadata": {
        "id": "3pvOv6HyT87I",
        "colab_type": "code",
        "colab": {
          "base_uri": "https://localhost:8080/",
          "height": 372
        },
        "outputId": "1f3461fa-edf8-471b-ab4d-43a1456b5160"
      },
      "source": [
        "D = 20 # We can choose dimensionality manually\n",
        "\n",
        "i = Input(shape = (T,))\n",
        "x = Embedding(uniquetokens+1, D)(i) #here we have added 1 to uniquetokens because index 0 was reserved for padding thus unique tokens are always 1 more that what is return by tokenizer.word_index\n",
        "x = Bidirectional(LSTM(15, return_sequences = True))(x) # Using Bidirectional LSTM\n",
        "x = GlobalMaxPooling1D()(x)\n",
        "x = Dense(1, activation = 'sigmoid')(x)\n",
        "\n",
        "model = Model(i, x)\n",
        "\n",
        "model.compile(optimizer = 'adam', loss = 'binary_crossentropy', metrics = ['accuracy'])\n",
        "\n",
        "his = model.fit(X_train, Y_train , validation_data = (X_test, Y_test), epochs = 10, batch_size = 32)\n"
      ],
      "execution_count": 17,
      "outputs": [
        {
          "output_type": "stream",
          "text": [
            "Epoch 1/10\n",
            "458/458 [==============================] - 6s 14ms/step - loss: 0.3243 - accuracy: 0.8417 - val_loss: 0.1855 - val_accuracy: 0.9303\n",
            "Epoch 2/10\n",
            "458/458 [==============================] - 6s 13ms/step - loss: 0.1346 - accuracy: 0.9526 - val_loss: 0.1811 - val_accuracy: 0.9338\n",
            "Epoch 3/10\n",
            "458/458 [==============================] - 6s 13ms/step - loss: 0.0909 - accuracy: 0.9707 - val_loss: 0.1821 - val_accuracy: 0.9336\n",
            "Epoch 4/10\n",
            "458/458 [==============================] - 6s 13ms/step - loss: 0.0607 - accuracy: 0.9834 - val_loss: 0.1923 - val_accuracy: 0.9360\n",
            "Epoch 5/10\n",
            "458/458 [==============================] - 6s 13ms/step - loss: 0.0421 - accuracy: 0.9897 - val_loss: 0.2109 - val_accuracy: 0.9273\n",
            "Epoch 6/10\n",
            "458/458 [==============================] - 6s 13ms/step - loss: 0.0329 - accuracy: 0.9923 - val_loss: 0.2209 - val_accuracy: 0.9344\n",
            "Epoch 7/10\n",
            "458/458 [==============================] - 6s 13ms/step - loss: 0.0245 - accuracy: 0.9938 - val_loss: 0.2621 - val_accuracy: 0.9240\n",
            "Epoch 8/10\n",
            "458/458 [==============================] - 6s 13ms/step - loss: 0.0228 - accuracy: 0.9947 - val_loss: 0.2596 - val_accuracy: 0.9314\n",
            "Epoch 9/10\n",
            "458/458 [==============================] - 6s 13ms/step - loss: 0.0181 - accuracy: 0.9958 - val_loss: 0.2828 - val_accuracy: 0.9256\n",
            "Epoch 10/10\n",
            "458/458 [==============================] - 6s 13ms/step - loss: 0.0151 - accuracy: 0.9967 - val_loss: 0.2864 - val_accuracy: 0.9289\n"
          ],
          "name": "stdout"
        }
      ]
    },
    {
      "cell_type": "markdown",
      "metadata": {
        "id": "Gu0TpCjnRppH",
        "colab_type": "text"
      },
      "source": [
        "# Step 10 - Plotting Loss and Accuracy"
      ]
    },
    {
      "cell_type": "code",
      "metadata": {
        "id": "4MEeHJXuRsRo",
        "colab_type": "code",
        "colab": {
          "base_uri": "https://localhost:8080/",
          "height": 282
        },
        "outputId": "d4ccbae4-4cf8-4ee5-a00d-27cbfa7ba58c"
      },
      "source": [
        "#Plotting Loss\n",
        "\n",
        "plt.plot(his.history['loss'], label = 'loss')\n",
        "plt.plot(his.history['val_loss'], label = 'Valdation loss')\n",
        "plt.legend()\n"
      ],
      "execution_count": 18,
      "outputs": [
        {
          "output_type": "execute_result",
          "data": {
            "text/plain": [
              "<matplotlib.legend.Legend at 0x7fb9dcb6b400>"
            ]
          },
          "metadata": {
            "tags": []
          },
          "execution_count": 18
        },
        {
          "output_type": "display_data",
          "data": {
            "image/png": "[encoded data removed]",
            "text/plain": [
              "<Figure size 432x288 with 1 Axes>"
            ]
          },
          "metadata": {
            "tags": [],
            "needs_background": "light"
          }
        }
      ]
    },
    {
      "cell_type": "code",
      "metadata": {
        "id": "D5Af4dS2RuRc",
        "colab_type": "code",
        "colab": {
          "base_uri": "https://localhost:8080/",
          "height": 264
        },
        "outputId": "93fa7e13-fd5a-476a-faf7-8da14338aae7"
      },
      "source": [
        "plt.plot(his.history['accuracy'], label='Accuracy')\n",
        "plt.plot(his.history['val_accuracy'], label='Validation Accuracy')\n",
        "plt.legend()\n",
        "plt.show()\n"
      ],
      "execution_count": 19,
      "outputs": [
        {
          "output_type": "display_data",
          "data": {
            "image/png": "[encoded data removed]",
            "text/plain": [
              "<Figure size 432x288 with 1 Axes>"
            ]
          },
          "metadata": {
            "tags": [],
            "needs_background": "light"
          }
        }
      ]
    },
    {
      "cell_type": "markdown",
      "metadata": {
        "id": "0qrR18-HUA-k",
        "colab_type": "text"
      },
      "source": [
        "# Step 9 - Predicting results and checking accuracy"
      ]
    },
    {
      "cell_type": "code",
      "metadata": {
        "id": "8rRvhiNSUHAO",
        "colab_type": "code",
        "colab": {
          "base_uri": "https://localhost:8080/",
          "height": 70
        },
        "outputId": "42906b0a-6301-4cdc-a18c-57495c6354ac"
      },
      "source": [
        "yhat = model.predict(X_test)\n",
        "yhat = yhat>=0.5\n",
        "\n",
        "from sklearn.metrics import confusion_matrix, accuracy_score\n",
        "cm = confusion_matrix(Y_test, yhat)\n",
        "accuracy = accuracy_score(Y_test, yhat)\n",
        "\n",
        "print(accuracy)\n",
        "print(cm)"
      ],
      "execution_count": 20,
      "outputs": [
        {
          "output_type": "stream",
          "text": [
            "0.9289034727919059\n",
            "[[1903  137]\n",
            " [ 123 1494]]\n"
          ],
          "name": "stdout"
        }
      ]
    },
    {
      "cell_type": "markdown",
      "metadata": {
        "id": "u0K0omkaZXDG",
        "colab_type": "text"
      },
      "source": [
        "# Step 10 - Saving model for future use and deplyoment"
      ]
    },
    {
      "cell_type": "code",
      "metadata": {
        "id": "yrG6eSfrZanv",
        "colab_type": "code",
        "colab": {}
      },
      "source": [
        "import pickle \n",
        "\n",
        "model.save('Model.h5')\n",
        "\n",
        "with open(\"T.pkl\" , \"wb\") as filename:\n",
        "  pickle.dump(T, filename)\n",
        "\n",
        "with open(\"tokenizer.pkl\" , \"wb\") as filename:\n",
        "  pickle.dump(tokenizer, filename)"
      ],
      "execution_count": 21,
      "outputs": []
    },
    {
      "cell_type": "markdown",
      "metadata": {
        "id": "bB1vhTbzalmc",
        "colab_type": "text"
      },
      "source": [
        "**Conclusion**\n",
        "\n",
        "We can see that Deep Learning model RNN Bidirectional LSTM gave a greater accuracy  then normal Bag of Words Models and normal LSTM model, thus this should be preferred over Bag of Words models in most NLP related problems incuding this one.\n",
        "\n",
        "The Validation Accuracy we got for LSTM was 92%.\n",
        "The Validation Accuracy we got for Bidirectional LSTM is 0.9289034727919059\n",
        "\n"
      ]
    }
  ]
}
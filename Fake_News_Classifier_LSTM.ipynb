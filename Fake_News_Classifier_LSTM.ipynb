{
  "nbformat": 4,
  "nbformat_minor": 0,
  "metadata": {
    "colab": {
      "name": "Fake News Classifier LSTM.ipynb",
      "provenance": [],
      "collapsed_sections": [],
      "toc_visible": true
    },
    "kernelspec": {
      "name": "python3",
      "display_name": "Python 3"
    },
    "accelerator": "GPU"
  },
  "cells": [
    {
      "cell_type": "markdown",
      "metadata": {
        "id": "v3EMbsnlNc_n",
        "colab_type": "text"
      },
      "source": [
        "**Problem Statement**\n",
        "\n",
        "This is a problem to identify wheather a given news is fake or real.\n",
        "The Indepedent variables or factors used here can be title of news or news lines themselves.\n",
        "We will be looking at different model to solve this problem.\n",
        "In this notebook we will using RNN LSTM deep learning model."
      ]
    },
    {
      "cell_type": "markdown",
      "metadata": {
        "id": "MrBM4Tt1N-fy",
        "colab_type": "text"
      },
      "source": [
        "**Dataset**\n",
        "\n",
        "The dataset for news is taken from Kaggle https://www.kaggle.com/c/fake-news/.\n",
        "The dataset is quite huge containing thousands of rows, we expect our model to be highly accurate."
      ]
    },
    {
      "cell_type": "markdown",
      "metadata": {
        "id": "g-u-Lbc5OFnS",
        "colab_type": "text"
      },
      "source": [
        "# Step 1 - Importing the libraries"
      ]
    },
    {
      "cell_type": "code",
      "metadata": {
        "id": "H2r8jY47OIHA",
        "colab_type": "code",
        "colab": {}
      },
      "source": [
        "import numpy as np\n",
        "import pandas as pd\n",
        "import matplotlib.pyplot as plt\n",
        "import tensorflow as tf\n",
        "from tensorflow.keras.layers import Input, LSTM, Dense, Dropout, Embedding, GlobalMaxPooling1D\n",
        "from tensorflow.keras.models import Model\n",
        "from tensorflow.keras.preprocessing.text import Tokenizer\n",
        "from tensorflow.keras.preprocessing.sequence import pad_sequences"
      ],
      "execution_count": 1,
      "outputs": []
    },
    {
      "cell_type": "markdown",
      "metadata": {
        "id": "HvzmxC4YOVr1",
        "colab_type": "text"
      },
      "source": [
        "# Step 2 - Importing the dataset"
      ]
    },
    {
      "cell_type": "code",
      "metadata": {
        "id": "NJATHQwOOX-9",
        "colab_type": "code",
        "colab": {
          "base_uri": "https://localhost:8080/",
          "height": 197
        },
        "outputId": "b1046f67-cab2-4cf8-9942-6a44c577a9f5"
      },
      "source": [
        "data = pd.read_csv('/content/drive/My Drive/Data Science Projects/Dataset Fakenews.csv') # 1 is for fake 0 for real\n",
        "data.head()"
      ],
      "execution_count": 3,
      "outputs": [
        {
          "output_type": "execute_result",
          "data": {
            "text/html": [
              "<div>\n",
              "<style scoped>\n",
              "    .dataframe tbody tr th:only-of-type {\n",
              "        vertical-align: middle;\n",
              "    }\n",
              "\n",
              "    .dataframe tbody tr th {\n",
              "        vertical-align: top;\n",
              "    }\n",
              "\n",
              "    .dataframe thead th {\n",
              "        text-align: right;\n",
              "    }\n",
              "</style>\n",
              "<table border=\"1\" class=\"dataframe\">\n",
              "  <thead>\n",
              "    <tr style=\"text-align: right;\">\n",
              "      <th></th>\n",
              "      <th>id</th>\n",
              "      <th>title</th>\n",
              "      <th>author</th>\n",
              "      <th>text</th>\n",
              "      <th>label</th>\n",
              "    </tr>\n",
              "  </thead>\n",
              "  <tbody>\n",
              "    <tr>\n",
              "      <th>0</th>\n",
              "      <td>0</td>\n",
              "      <td>House Dem Aide: We Didn’t Even See Comey’s Let...</td>\n",
              "      <td>Darrell Lucus</td>\n",
              "      <td>House Dem Aide: We Didn’t Even See Comey’s Let...</td>\n",
              "      <td>1</td>\n",
              "    </tr>\n",
              "    <tr>\n",
              "      <th>1</th>\n",
              "      <td>1</td>\n",
              "      <td>FLYNN: Hillary Clinton, Big Woman on Campus - ...</td>\n",
              "      <td>Daniel J. Flynn</td>\n",
              "      <td>Ever get the feeling your life circles the rou...</td>\n",
              "      <td>0</td>\n",
              "    </tr>\n",
              "    <tr>\n",
              "      <th>2</th>\n",
              "      <td>2</td>\n",
              "      <td>Why the Truth Might Get You Fired</td>\n",
              "      <td>Consortiumnews.com</td>\n",
              "      <td>Why the Truth Might Get You Fired October 29, ...</td>\n",
              "      <td>1</td>\n",
              "    </tr>\n",
              "    <tr>\n",
              "      <th>3</th>\n",
              "      <td>3</td>\n",
              "      <td>15 Civilians Killed In Single US Airstrike Hav...</td>\n",
              "      <td>Jessica Purkiss</td>\n",
              "      <td>Videos 15 Civilians Killed In Single US Airstr...</td>\n",
              "      <td>1</td>\n",
              "    </tr>\n",
              "    <tr>\n",
              "      <th>4</th>\n",
              "      <td>4</td>\n",
              "      <td>Iranian woman jailed for fictional unpublished...</td>\n",
              "      <td>Howard Portnoy</td>\n",
              "      <td>Print \\nAn Iranian woman has been sentenced to...</td>\n",
              "      <td>1</td>\n",
              "    </tr>\n",
              "  </tbody>\n",
              "</table>\n",
              "</div>"
            ],
            "text/plain": [
              "   id  ... label\n",
              "0   0  ...     1\n",
              "1   1  ...     0\n",
              "2   2  ...     1\n",
              "3   3  ...     1\n",
              "4   4  ...     1\n",
              "\n",
              "[5 rows x 5 columns]"
            ]
          },
          "metadata": {
            "tags": []
          },
          "execution_count": 3
        }
      ]
    },
    {
      "cell_type": "markdown",
      "metadata": {
        "id": "OWm5Yk4yOpwd",
        "colab_type": "text"
      },
      "source": [
        "# Step 3 - Dealing with null values"
      ]
    },
    {
      "cell_type": "code",
      "metadata": {
        "id": "kfllUVITOsCO",
        "colab_type": "code",
        "colab": {
          "base_uri": "https://localhost:8080/",
          "height": 123
        },
        "outputId": "00ce105d-0e02-47c7-f911-3ad10dd5fc93"
      },
      "source": [
        "print(data.isnull().sum())\n",
        "data.dropna(inplace = True)\n",
        "data.reset_index(inplace = True)"
      ],
      "execution_count": 4,
      "outputs": [
        {
          "output_type": "stream",
          "text": [
            "id           0\n",
            "title      558\n",
            "author    1957\n",
            "text        39\n",
            "label        0\n",
            "dtype: int64\n"
          ],
          "name": "stdout"
        }
      ]
    },
    {
      "cell_type": "code",
      "metadata": {
        "id": "0NaLW2GpOx2V",
        "colab_type": "code",
        "colab": {
          "base_uri": "https://localhost:8080/",
          "height": 141
        },
        "outputId": "f019f325-2e6b-4508-b000-bc12a6192738"
      },
      "source": [
        "print(data.isnull().sum())"
      ],
      "execution_count": 5,
      "outputs": [
        {
          "output_type": "stream",
          "text": [
            "index     0\n",
            "id        0\n",
            "title     0\n",
            "author    0\n",
            "text      0\n",
            "label     0\n",
            "dtype: int64\n"
          ],
          "name": "stdout"
        }
      ]
    },
    {
      "cell_type": "markdown",
      "metadata": {
        "id": "lljIJ2RNPAZO",
        "colab_type": "text"
      },
      "source": [
        "# Step 4 - Making independent variable X and dependent variable Y"
      ]
    },
    {
      "cell_type": "code",
      "metadata": {
        "id": "8eeoIcywPE4L",
        "colab_type": "code",
        "colab": {}
      },
      "source": [
        "X = data.iloc[:, 2] # Taking title as input\n",
        "Y = data.iloc[:, -1]"
      ],
      "execution_count": 6,
      "outputs": []
    },
    {
      "cell_type": "code",
      "metadata": {
        "id": "_UJcDNYFMxnf",
        "colab_type": "code",
        "colab": {
          "base_uri": "https://localhost:8080/",
          "height": 123
        },
        "outputId": "b21e336a-e313-49a5-b606-ab2e3845692a"
      },
      "source": [
        "X.head()"
      ],
      "execution_count": 7,
      "outputs": [
        {
          "output_type": "execute_result",
          "data": {
            "text/plain": [
              "0    House Dem Aide: We Didn’t Even See Comey’s Let...\n",
              "1    FLYNN: Hillary Clinton, Big Woman on Campus - ...\n",
              "2                    Why the Truth Might Get You Fired\n",
              "3    15 Civilians Killed In Single US Airstrike Hav...\n",
              "4    Iranian woman jailed for fictional unpublished...\n",
              "Name: title, dtype: object"
            ]
          },
          "metadata": {
            "tags": []
          },
          "execution_count": 7
        }
      ]
    },
    {
      "cell_type": "code",
      "metadata": {
        "id": "ns-5nEIvPH2S",
        "colab_type": "code",
        "colab": {
          "base_uri": "https://localhost:8080/",
          "height": 123
        },
        "outputId": "16fe7350-57ee-4187-f6af-94737691eecb"
      },
      "source": [
        "Y.head()"
      ],
      "execution_count": 8,
      "outputs": [
        {
          "output_type": "execute_result",
          "data": {
            "text/plain": [
              "0    1\n",
              "1    0\n",
              "2    1\n",
              "3    1\n",
              "4    1\n",
              "Name: label, dtype: int64"
            ]
          },
          "metadata": {
            "tags": []
          },
          "execution_count": 8
        }
      ]
    },
    {
      "cell_type": "markdown",
      "metadata": {
        "id": "SVGFUQ3-Qpdd",
        "colab_type": "text"
      },
      "source": [
        "# Step 5 - Splitting dataset into Training and Test"
      ]
    },
    {
      "cell_type": "code",
      "metadata": {
        "id": "Njh5_-2rQsUh",
        "colab_type": "code",
        "colab": {}
      },
      "source": [
        "from sklearn.model_selection import train_test_split\n",
        "X_train,X_test,Y_train,Y_test=train_test_split(X, Y, test_size = 0.20, random_state = 0)"
      ],
      "execution_count": 9,
      "outputs": []
    },
    {
      "cell_type": "markdown",
      "metadata": {
        "id": "I_qZTHe-NH8z",
        "colab_type": "text"
      },
      "source": [
        "# Step 6 - Tokenizing the data"
      ]
    },
    {
      "cell_type": "code",
      "metadata": {
        "id": "iBXP3YaXNrAK",
        "colab_type": "code",
        "colab": {}
      },
      "source": [
        "MAX_VOCAB_SIZE = 5000\n",
        "tokenizer = Tokenizer(num_words = MAX_VOCAB_SIZE)\n",
        "tokenizer.fit_on_texts(X_train)\n",
        "X_train = tokenizer.texts_to_sequences(X_train)\n",
        "X_test = tokenizer.texts_to_sequences(X_test)\n",
        "\n",
        "wordsindices = (tokenizer.word_index)\n",
        "\n",
        "uniquetokens = len(wordsindices)"
      ],
      "execution_count": 10,
      "outputs": []
    },
    {
      "cell_type": "code",
      "metadata": {
        "id": "vVvlmt2GQanZ",
        "colab_type": "code",
        "colab": {
          "base_uri": "https://localhost:8080/",
          "height": 34
        },
        "outputId": "f5484668-97f0-4fa2-a63f-69bdaf0c24cb"
      },
      "source": [
        "print(uniquetokens)"
      ],
      "execution_count": 11,
      "outputs": [
        {
          "output_type": "stream",
          "text": [
            "22880\n"
          ],
          "name": "stdout"
        }
      ]
    },
    {
      "cell_type": "markdown",
      "metadata": {
        "id": "lTHnfjIhQreD",
        "colab_type": "text"
      },
      "source": [
        "# Step 7 - Padding Sequences"
      ]
    },
    {
      "cell_type": "code",
      "metadata": {
        "id": "eYXZt22JQtgr",
        "colab_type": "code",
        "colab": {}
      },
      "source": [
        "X_train = pad_sequences(X_train) # Padding sequences to make tham of equal length\n",
        "\n",
        "T = X_train.shape[1]\n",
        "\n",
        "X_test = pad_sequences(X_test, maxlen = T) #Paddking according to size of X_train to make it equal\n"
      ],
      "execution_count": 12,
      "outputs": []
    },
    {
      "cell_type": "markdown",
      "metadata": {
        "id": "41rQlo4TQwx9",
        "colab_type": "text"
      },
      "source": [
        "# Step 8 - Creating Deep Learning RNN LSTM model"
      ]
    },
    {
      "cell_type": "code",
      "metadata": {
        "id": "3pvOv6HyT87I",
        "colab_type": "code",
        "colab": {
          "base_uri": "https://localhost:8080/",
          "height": 372
        },
        "outputId": "e909a6ec-3799-43aa-86f9-51aa463b7fdb"
      },
      "source": [
        "D = 20 # We can choose dimensionality manually\n",
        "\n",
        "i = Input(shape = (T,))\n",
        "x = Embedding(uniquetokens+1, D)(i) #here we have added 1 to uniquetokens because index 0 was reserved for padding thus unique tokens are always 1 more that what is return by tokenizer.word_index\n",
        "x = LSTM(15, return_sequences = True)(x)\n",
        "x = GlobalMaxPooling1D()(x)\n",
        "x = Dense(1, activation = 'sigmoid')(x)\n",
        "\n",
        "model = Model(i, x)\n",
        "\n",
        "model.compile(optimizer = 'adam', loss = 'binary_crossentropy', metrics = ['accuracy'])\n",
        "\n",
        "his = model.fit(X_train, Y_train , validation_data = (X_test, Y_test), epochs = 10, batch_size = 64)\n"
      ],
      "execution_count": 14,
      "outputs": [
        {
          "output_type": "stream",
          "text": [
            "Epoch 1/10\n",
            "229/229 [==============================] - 5s 21ms/step - loss: 0.4984 - accuracy: 0.7527 - val_loss: 0.2933 - val_accuracy: 0.9202\n",
            "Epoch 2/10\n",
            "229/229 [==============================] - 4s 19ms/step - loss: 0.2043 - accuracy: 0.9463 - val_loss: 0.1989 - val_accuracy: 0.9333\n",
            "Epoch 3/10\n",
            "229/229 [==============================] - 4s 18ms/step - loss: 0.1240 - accuracy: 0.9691 - val_loss: 0.1914 - val_accuracy: 0.9333\n",
            "Epoch 4/10\n",
            "229/229 [==============================] - 4s 19ms/step - loss: 0.0840 - accuracy: 0.9813 - val_loss: 0.2045 - val_accuracy: 0.9292\n",
            "Epoch 5/10\n",
            "229/229 [==============================] - 4s 18ms/step - loss: 0.0636 - accuracy: 0.9857 - val_loss: 0.2300 - val_accuracy: 0.9278\n",
            "Epoch 6/10\n",
            "229/229 [==============================] - 4s 18ms/step - loss: 0.0520 - accuracy: 0.9893 - val_loss: 0.2339 - val_accuracy: 0.9275\n",
            "Epoch 7/10\n",
            "229/229 [==============================] - 4s 18ms/step - loss: 0.0408 - accuracy: 0.9909 - val_loss: 0.2393 - val_accuracy: 0.9281\n",
            "Epoch 8/10\n",
            "229/229 [==============================] - 4s 18ms/step - loss: 0.0318 - accuracy: 0.9945 - val_loss: 0.2649 - val_accuracy: 0.9275\n",
            "Epoch 9/10\n",
            "229/229 [==============================] - 4s 18ms/step - loss: 0.0271 - accuracy: 0.9945 - val_loss: 0.2693 - val_accuracy: 0.9286\n",
            "Epoch 10/10\n",
            "229/229 [==============================] - 4s 18ms/step - loss: 0.0234 - accuracy: 0.9956 - val_loss: 0.2785 - val_accuracy: 0.9278\n"
          ],
          "name": "stdout"
        }
      ]
    },
    {
      "cell_type": "markdown",
      "metadata": {
        "id": "Gu0TpCjnRppH",
        "colab_type": "text"
      },
      "source": [
        "# Step 10 - Plotting Loss and Accuracy"
      ]
    },
    {
      "cell_type": "code",
      "metadata": {
        "id": "4MEeHJXuRsRo",
        "colab_type": "code",
        "colab": {
          "base_uri": "https://localhost:8080/",
          "height": 282
        },
        "outputId": "29c9b780-a346-4407-9839-2c57df88489c"
      },
      "source": [
        "#Plotting Loss\n",
        "\n",
        "plt.plot(his.history['loss'], label = 'loss')\n",
        "plt.plot(his.history['val_loss'], label = 'Valdation loss')\n",
        "plt.legend()\n"
      ],
      "execution_count": 15,
      "outputs": [
        {
          "output_type": "execute_result",
          "data": {
            "text/plain": [
              "<matplotlib.legend.Legend at 0x7f352ff82d68>"
            ]
          },
          "metadata": {
            "tags": []
          },
          "execution_count": 15
        },
        {
          "output_type": "display_data",
          "data": {
            "image/png": "[encoded data removed]",
            "text/plain": [
              "<Figure size 432x288 with 1 Axes>"
            ]
          },
          "metadata": {
            "tags": [],
            "needs_background": "light"
          }
        }
      ]
    },
    {
      "cell_type": "code",
      "metadata": {
        "id": "D5Af4dS2RuRc",
        "colab_type": "code",
        "colab": {
          "base_uri": "https://localhost:8080/",
          "height": 264
        },
        "outputId": "2e07e775-bdec-4b50-fb58-225514f1e96c"
      },
      "source": [
        "plt.plot(his.history['accuracy'], label='Accuracy')\n",
        "plt.plot(his.history['val_accuracy'], label='Validation Accuracy')\n",
        "plt.legend()\n",
        "plt.show()\n"
      ],
      "execution_count": 16,
      "outputs": [
        {
          "output_type": "display_data",
          "data": {
            "image/png": "[encoded data removed]",
            "text/plain": [
              "<Figure size 432x288 with 1 Axes>"
            ]
          },
          "metadata": {
            "tags": [],
            "needs_background": "light"
          }
        }
      ]
    },
    {
      "cell_type": "markdown",
      "metadata": {
        "id": "0qrR18-HUA-k",
        "colab_type": "text"
      },
      "source": [
        "# Step 9 - Predicting results and checking accuracy"
      ]
    },
    {
      "cell_type": "code",
      "metadata": {
        "id": "8rRvhiNSUHAO",
        "colab_type": "code",
        "colab": {
          "base_uri": "https://localhost:8080/",
          "height": 70
        },
        "outputId": "1e7e4782-0fb7-4a9a-b1bc-666e15fbb1c5"
      },
      "source": [
        "yhat = model.predict(X_test)\n",
        "yhat = yhat>=0.5\n",
        "\n",
        "from sklearn.metrics import confusion_matrix, accuracy_score\n",
        "cm = confusion_matrix(Y_test, yhat)\n",
        "accuracy = accuracy_score(Y_test, yhat)\n",
        "\n",
        "print(accuracy)\n",
        "print(cm)"
      ],
      "execution_count": 18,
      "outputs": [
        {
          "output_type": "stream",
          "text": [
            "0.9278096800656276\n",
            "[[1910  130]\n",
            " [ 134 1483]]\n"
          ],
          "name": "stdout"
        }
      ]
    },
    {
      "cell_type": "markdown",
      "metadata": {
        "id": "u0K0omkaZXDG",
        "colab_type": "text"
      },
      "source": [
        "# Step 10 - Saving model for future use and deplyoment"
      ]
    },
    {
      "cell_type": "code",
      "metadata": {
        "id": "yrG6eSfrZanv",
        "colab_type": "code",
        "colab": {}
      },
      "source": [
        "import pickle \n",
        "\n",
        "model.save('Model.h5')\n",
        "\n",
        "with open(\"T.pkl\" , \"wb\") as filename:\n",
        "  pickle.dump(T, filename)\n",
        "\n",
        "with open(\"tokenizer.pkl\" , \"wb\") as filename:\n",
        "  pickle.dump(tokenizer, filename)"
      ],
      "execution_count": 19,
      "outputs": []
    },
    {
      "cell_type": "markdown",
      "metadata": {
        "id": "bB1vhTbzalmc",
        "colab_type": "text"
      },
      "source": [
        "**Conclusion**\n",
        "\n",
        "We can see that Deep Learning model RNN LSTM gave a greater accuracy  then normal Bag of Words Models, thus this should be preferred over Bag of Words models in most NLP related problems incuding this one.\n",
        "\n",
        "The Validation Accuracy we got here is of over 92%.\n"
      ]
    }
  ]
}
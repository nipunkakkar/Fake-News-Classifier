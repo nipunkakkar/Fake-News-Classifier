{
  "nbformat": 4,
  "nbformat_minor": 0,
  "metadata": {
    "colab": {
      "name": "Fake News Classifier BoW TFIDF.ipynb",
      "provenance": [],
      "collapsed_sections": []
    },
    "kernelspec": {
      "name": "python3",
      "display_name": "Python 3"
    },
    "accelerator": "GPU"
  },
  "cells": [
    {
      "cell_type": "markdown",
      "metadata": {
        "id": "v3EMbsnlNc_n",
        "colab_type": "text"
      },
      "source": [
        "**Problem Statement**\n",
        "\n",
        "This is a problem to identify wheather a given news is fake or real.\n",
        "The Indepedent variables or factors used here can be title of news or news lines themselves.\n",
        "We will be looking at different model to solve this problem.\n",
        "In this notebook we will using Bag of Words model with TFDIF."
      ]
    },
    {
      "cell_type": "markdown",
      "metadata": {
        "id": "MrBM4Tt1N-fy",
        "colab_type": "text"
      },
      "source": [
        "**Dataset**\n",
        "\n",
        "The dataset for news is taken from Kaggle https://www.kaggle.com/c/fake-news/.\n",
        "The dataset is quite huge containing thousands of rows, we expect our model to be highly accurate."
      ]
    },
    {
      "cell_type": "markdown",
      "metadata": {
        "id": "g-u-Lbc5OFnS",
        "colab_type": "text"
      },
      "source": [
        "# Step 1 - Importing the libraries"
      ]
    },
    {
      "cell_type": "code",
      "metadata": {
        "id": "H2r8jY47OIHA",
        "colab_type": "code",
        "colab": {
          "base_uri": "https://localhost:8080/",
          "height": 52
        },
        "outputId": "8d9dee11-4bcc-49fd-a490-4220e3525a32"
      },
      "source": [
        "import numpy as np\n",
        "import pandas as pd\n",
        "import re\n",
        "import nltk\n",
        "nltk.download('stopwords')\n",
        "from nltk.corpus import stopwords\n",
        "from nltk.stem import PorterStemmer"
      ],
      "execution_count": 1,
      "outputs": [
        {
          "output_type": "stream",
          "text": [
            "[nltk_data] Downloading package stopwords to /root/nltk_data...\n",
            "[nltk_data]   Unzipping corpora/stopwords.zip.\n"
          ],
          "name": "stdout"
        }
      ]
    },
    {
      "cell_type": "markdown",
      "metadata": {
        "id": "HvzmxC4YOVr1",
        "colab_type": "text"
      },
      "source": [
        "# Step 2 - Importing the dataset"
      ]
    },
    {
      "cell_type": "code",
      "metadata": {
        "id": "NJATHQwOOX-9",
        "colab_type": "code",
        "colab": {
          "base_uri": "https://localhost:8080/",
          "height": 197
        },
        "outputId": "151470a5-9bb2-4958-d4c5-05fde5e8469c"
      },
      "source": [
        "data = pd.read_csv('/content/drive/My Drive/Data Science Projects/Dataset Fakenews.csv') # 1 is for fake 0 for real\n",
        "data.head()"
      ],
      "execution_count": 2,
      "outputs": [
        {
          "output_type": "execute_result",
          "data": {
            "text/html": [
              "<div>\n",
              "<style scoped>\n",
              "    .dataframe tbody tr th:only-of-type {\n",
              "        vertical-align: middle;\n",
              "    }\n",
              "\n",
              "    .dataframe tbody tr th {\n",
              "        vertical-align: top;\n",
              "    }\n",
              "\n",
              "    .dataframe thead th {\n",
              "        text-align: right;\n",
              "    }\n",
              "</style>\n",
              "<table border=\"1\" class=\"dataframe\">\n",
              "  <thead>\n",
              "    <tr style=\"text-align: right;\">\n",
              "      <th></th>\n",
              "      <th>id</th>\n",
              "      <th>title</th>\n",
              "      <th>author</th>\n",
              "      <th>text</th>\n",
              "      <th>label</th>\n",
              "    </tr>\n",
              "  </thead>\n",
              "  <tbody>\n",
              "    <tr>\n",
              "      <th>0</th>\n",
              "      <td>0</td>\n",
              "      <td>House Dem Aide: We Didn’t Even See Comey’s Let...</td>\n",
              "      <td>Darrell Lucus</td>\n",
              "      <td>House Dem Aide: We Didn’t Even See Comey’s Let...</td>\n",
              "      <td>1</td>\n",
              "    </tr>\n",
              "    <tr>\n",
              "      <th>1</th>\n",
              "      <td>1</td>\n",
              "      <td>FLYNN: Hillary Clinton, Big Woman on Campus - ...</td>\n",
              "      <td>Daniel J. Flynn</td>\n",
              "      <td>Ever get the feeling your life circles the rou...</td>\n",
              "      <td>0</td>\n",
              "    </tr>\n",
              "    <tr>\n",
              "      <th>2</th>\n",
              "      <td>2</td>\n",
              "      <td>Why the Truth Might Get You Fired</td>\n",
              "      <td>Consortiumnews.com</td>\n",
              "      <td>Why the Truth Might Get You Fired October 29, ...</td>\n",
              "      <td>1</td>\n",
              "    </tr>\n",
              "    <tr>\n",
              "      <th>3</th>\n",
              "      <td>3</td>\n",
              "      <td>15 Civilians Killed In Single US Airstrike Hav...</td>\n",
              "      <td>Jessica Purkiss</td>\n",
              "      <td>Videos 15 Civilians Killed In Single US Airstr...</td>\n",
              "      <td>1</td>\n",
              "    </tr>\n",
              "    <tr>\n",
              "      <th>4</th>\n",
              "      <td>4</td>\n",
              "      <td>Iranian woman jailed for fictional unpublished...</td>\n",
              "      <td>Howard Portnoy</td>\n",
              "      <td>Print \\nAn Iranian woman has been sentenced to...</td>\n",
              "      <td>1</td>\n",
              "    </tr>\n",
              "  </tbody>\n",
              "</table>\n",
              "</div>"
            ],
            "text/plain": [
              "   id  ... label\n",
              "0   0  ...     1\n",
              "1   1  ...     0\n",
              "2   2  ...     1\n",
              "3   3  ...     1\n",
              "4   4  ...     1\n",
              "\n",
              "[5 rows x 5 columns]"
            ]
          },
          "metadata": {
            "tags": []
          },
          "execution_count": 2
        }
      ]
    },
    {
      "cell_type": "markdown",
      "metadata": {
        "id": "OWm5Yk4yOpwd",
        "colab_type": "text"
      },
      "source": [
        "# Step 3 - Dealing with null values"
      ]
    },
    {
      "cell_type": "code",
      "metadata": {
        "id": "kfllUVITOsCO",
        "colab_type": "code",
        "colab": {
          "base_uri": "https://localhost:8080/",
          "height": 123
        },
        "outputId": "92ae474c-db70-4f31-fdb1-3e85cfa6b556"
      },
      "source": [
        "print(data.isnull().sum())\n",
        "data.dropna(inplace = True)\n",
        "data.reset_index(inplace = True)"
      ],
      "execution_count": 3,
      "outputs": [
        {
          "output_type": "stream",
          "text": [
            "id           0\n",
            "title      558\n",
            "author    1957\n",
            "text        39\n",
            "label        0\n",
            "dtype: int64\n"
          ],
          "name": "stdout"
        }
      ]
    },
    {
      "cell_type": "code",
      "metadata": {
        "id": "0NaLW2GpOx2V",
        "colab_type": "code",
        "colab": {
          "base_uri": "https://localhost:8080/",
          "height": 141
        },
        "outputId": "d6d6cd34-2246-4cb8-dd8d-5f1fed48b433"
      },
      "source": [
        "print(data.isnull().sum())"
      ],
      "execution_count": 4,
      "outputs": [
        {
          "output_type": "stream",
          "text": [
            "index     0\n",
            "id        0\n",
            "title     0\n",
            "author    0\n",
            "text      0\n",
            "label     0\n",
            "dtype: int64\n"
          ],
          "name": "stdout"
        }
      ]
    },
    {
      "cell_type": "markdown",
      "metadata": {
        "id": "lljIJ2RNPAZO",
        "colab_type": "text"
      },
      "source": [
        "# Step 4 - Making dependent variable Y"
      ]
    },
    {
      "cell_type": "code",
      "metadata": {
        "id": "8eeoIcywPE4L",
        "colab_type": "code",
        "colab": {}
      },
      "source": [
        "Y = data.iloc[:, -1]\n",
        "# We will be dealing with Independent Variable X later on"
      ],
      "execution_count": 5,
      "outputs": []
    },
    {
      "cell_type": "code",
      "metadata": {
        "id": "ns-5nEIvPH2S",
        "colab_type": "code",
        "colab": {
          "base_uri": "https://localhost:8080/",
          "height": 123
        },
        "outputId": "5c926d5d-2b4c-48f6-bf8e-e1005e29fa7d"
      },
      "source": [
        "Y.head()"
      ],
      "execution_count": 6,
      "outputs": [
        {
          "output_type": "execute_result",
          "data": {
            "text/plain": [
              "0    1\n",
              "1    0\n",
              "2    1\n",
              "3    1\n",
              "4    1\n",
              "Name: label, dtype: int64"
            ]
          },
          "metadata": {
            "tags": []
          },
          "execution_count": 6
        }
      ]
    },
    {
      "cell_type": "markdown",
      "metadata": {
        "id": "Hqm23lenPf8W",
        "colab_type": "text"
      },
      "source": [
        "# Step 5 - Cleaning the text"
      ]
    },
    {
      "cell_type": "code",
      "metadata": {
        "id": "akg7vMtdPj5V",
        "colab_type": "code",
        "colab": {}
      },
      "source": [
        "corpus = []                                           # Declaring a list\n",
        "for i in range(0,data.shape[0]):\n",
        "  review = re.sub('[^a-zA-Z]', ' ',  data['title'][i])  # Keeping only a-z or A-Z characters in news\n",
        "  review = review.lower()                               # Lower all characters\n",
        "  review = review.split()\n",
        "  ps = PorterStemmer()\n",
        "  all_stopwords = stopwords.words('english')            # Removing all stopwords/unnecessary words from news\n",
        "  all_stopwords.remove('not') #otherwise this word \"not\" will be included in stopwords removing of which from news is not idle\n",
        "  review = [ps.stem(word) for word in review if not word in set(all_stopwords) ]\n",
        "  review = ' '.join(review) #Converting back the review list to String\n",
        "  corpus.append(review)"
      ],
      "execution_count": 7,
      "outputs": []
    },
    {
      "cell_type": "markdown",
      "metadata": {
        "id": "vWTcJ6_6QcVA",
        "colab_type": "text"
      },
      "source": [
        "# Step 6 - Creating Bag of Words with TFDIF"
      ]
    },
    {
      "cell_type": "code",
      "metadata": {
        "id": "WzqEmA0iQfeN",
        "colab_type": "code",
        "colab": {}
      },
      "source": [
        "from sklearn.feature_extraction.text import TfidfVectorizer\n",
        "tv = TfidfVectorizer(max_features = 5000, ngram_range = (1,3)) #take feature as combination of words \n",
        "X = tv.fit_transform(corpus).toarray()  # Finally independent variable X is ready"
      ],
      "execution_count": 8,
      "outputs": []
    },
    {
      "cell_type": "markdown",
      "metadata": {
        "id": "SVGFUQ3-Qpdd",
        "colab_type": "text"
      },
      "source": [
        "# Step 7 - Splitting dataset into Training and Test"
      ]
    },
    {
      "cell_type": "code",
      "metadata": {
        "id": "Njh5_-2rQsUh",
        "colab_type": "code",
        "colab": {}
      },
      "source": [
        "from sklearn.model_selection import train_test_split\n",
        "X_train,X_test,Y_train,Y_test=train_test_split(X, Y, test_size = 0.20, random_state = 0)"
      ],
      "execution_count": 9,
      "outputs": []
    },
    {
      "cell_type": "markdown",
      "metadata": {
        "id": "41rQlo4TQwx9",
        "colab_type": "text"
      },
      "source": [
        "# Step 8 - Creating Machine Learning models"
      ]
    },
    {
      "cell_type": "code",
      "metadata": {
        "id": "3pvOv6HyT87I",
        "colab_type": "code",
        "colab": {
          "base_uri": "https://localhost:8080/",
          "height": 34
        },
        "outputId": "82928831-e8e2-412d-93a9-b91535cf90e1"
      },
      "source": [
        "from sklearn.naive_bayes import MultinomialNB\n",
        "classifier = MultinomialNB()\n",
        "classifier.fit(X_train, Y_train)"
      ],
      "execution_count": 10,
      "outputs": [
        {
          "output_type": "execute_result",
          "data": {
            "text/plain": [
              "MultinomialNB(alpha=1.0, class_prior=None, fit_prior=True)"
            ]
          },
          "metadata": {
            "tags": []
          },
          "execution_count": 10
        }
      ]
    },
    {
      "cell_type": "code",
      "metadata": {
        "id": "yyZqFD8CT_Gn",
        "colab_type": "code",
        "colab": {
          "base_uri": "https://localhost:8080/",
          "height": 123
        },
        "outputId": "08e3fb3f-4100-48a6-bdc1-0731fcfb35bd"
      },
      "source": [
        "\n",
        "from sklearn.linear_model import PassiveAggressiveClassifier\n",
        "classifier = PassiveAggressiveClassifier()\n",
        "classifier.fit(X_train, Y_train)\n"
      ],
      "execution_count": 16,
      "outputs": [
        {
          "output_type": "execute_result",
          "data": {
            "text/plain": [
              "PassiveAggressiveClassifier(C=1.0, average=False, class_weight=None,\n",
              "                            early_stopping=False, fit_intercept=True,\n",
              "                            loss='hinge', max_iter=1000, n_iter_no_change=5,\n",
              "                            n_jobs=None, random_state=None, shuffle=True,\n",
              "                            tol=0.001, validation_fraction=0.1, verbose=0,\n",
              "                            warm_start=False)"
            ]
          },
          "metadata": {
            "tags": []
          },
          "execution_count": 16
        }
      ]
    },
    {
      "cell_type": "markdown",
      "metadata": {
        "id": "0qrR18-HUA-k",
        "colab_type": "text"
      },
      "source": [
        "# Step 9 - Predicting results and checking accuracy"
      ]
    },
    {
      "cell_type": "code",
      "metadata": {
        "id": "8rRvhiNSUHAO",
        "colab_type": "code",
        "colab": {
          "base_uri": "https://localhost:8080/",
          "height": 70
        },
        "outputId": "898ad711-a76c-4171-83b9-32f8add28ffe"
      },
      "source": [
        "yhat = classifier.predict(X_test)\n",
        "\n",
        "from sklearn.metrics import confusion_matrix, accuracy_score\n",
        "cm = confusion_matrix(Y_test, yhat)\n",
        "accuracy = accuracy_score(Y_test, yhat)\n",
        "\n",
        "print(accuracy)\n",
        "print(cm)"
      ],
      "execution_count": 17,
      "outputs": [
        {
          "output_type": "stream",
          "text": [
            "0.9207000273448182\n",
            "[[1890  150]\n",
            " [ 140 1477]]\n"
          ],
          "name": "stdout"
        }
      ]
    },
    {
      "cell_type": "markdown",
      "metadata": {
        "id": "PThv31hnYh4V",
        "colab_type": "text"
      },
      "source": [
        "# Step 10 - Checking which wards are most real and fake"
      ]
    },
    {
      "cell_type": "code",
      "metadata": {
        "id": "JUqvPq3HYlLX",
        "colab_type": "code",
        "colab": {
          "base_uri": "https://localhost:8080/",
          "height": 372
        },
        "outputId": "a34e0219-3a64-45a8-ef42-f4aeca2c3df2"
      },
      "source": [
        "feature_names = tv.get_feature_names()\n",
        "coefficients = classifier.coef_[0]\n",
        "\n",
        "# Top 20 real news words\n",
        "sorted(zip(coefficients, feature_names), reverse = True)[:20]"
      ],
      "execution_count": 18,
      "outputs": [
        {
          "output_type": "execute_result",
          "data": {
            "text/plain": [
              "[(12.802859970702288, 'hillari'),\n",
              " (10.838551735104053, 'comment'),\n",
              " (10.263076298814536, 'journal'),\n",
              " (9.77526564700751, 'trump need'),\n",
              " (9.13576006356684, 'idiot'),\n",
              " (8.726138807450635, 'american peopl'),\n",
              " (8.535729682723796, 'daesh'),\n",
              " (8.500468783884587, 'invad'),\n",
              " (8.276049081889935, 'video'),\n",
              " (8.126878392741988, 'migrant crisi'),\n",
              " (7.714572687667521, 'negoti'),\n",
              " (7.520025741141372, 'gap'),\n",
              " (7.512996184645416, 'poll show'),\n",
              " (7.441698730599627, 'humili'),\n",
              " (7.402140791154557, 'bill clinton'),\n",
              " (7.27973202765165, 'jame matti'),\n",
              " (6.987827688628461, 'report new york'),\n",
              " (6.906191740127908, 'dog'),\n",
              " (6.744162558797096, 'clinton'),\n",
              " (6.736782350174677, 'aleppo')]"
            ]
          },
          "metadata": {
            "tags": []
          },
          "execution_count": 18
        }
      ]
    },
    {
      "cell_type": "code",
      "metadata": {
        "id": "Ci5jrpo_ZSoQ",
        "colab_type": "code",
        "colab": {
          "base_uri": "https://localhost:8080/",
          "height": 372
        },
        "outputId": "a4d66df3-6937-4f3e-8462-9c201128d009"
      },
      "source": [
        "# Top 20 fake news words\n",
        "sorted(zip(coefficients, feature_names), reverse = False)[:20]"
      ],
      "execution_count": 19,
      "outputs": [
        {
          "output_type": "execute_result",
          "data": {
            "text/plain": [
              "[(-43.73383177793861, 'breitbart'),\n",
              " (-18.865996662652257, 'new york time'),\n",
              " (-18.865996662652257, 'york time'),\n",
              " (-13.286545999455958, 'hillari clinton'),\n",
              " (-12.91900260809555, 'new york'),\n",
              " (-12.61222552418386, 'york'),\n",
              " (-10.748890980291863, 'delingpol'),\n",
              " (-10.633370055418885, 'penc'),\n",
              " (-10.222231066561756, 'gorka'),\n",
              " (-9.952497607419604, 'virgil'),\n",
              " (-9.863513057260814, 'espn'),\n",
              " (-9.13326771375477, 'cartel'),\n",
              " (-9.104193188198208, 'ross'),\n",
              " (-9.082313000978253, 'town hall'),\n",
              " (-9.033985801155316, 'abort'),\n",
              " (-8.943108109793014, 'streisand'),\n",
              " (-8.837915555065766, 'clinton aid'),\n",
              " (-8.807560361386352, 'westminst'),\n",
              " (-8.765110368371158, 'march'),\n",
              " (-8.606292961885638, 'potenti')]"
            ]
          },
          "metadata": {
            "tags": []
          },
          "execution_count": 19
        }
      ]
    },
    {
      "cell_type": "markdown",
      "metadata": {
        "id": "u0K0omkaZXDG",
        "colab_type": "text"
      },
      "source": [
        "# Step 11 - Saving model for future use and deplyoment"
      ]
    },
    {
      "cell_type": "code",
      "metadata": {
        "id": "yrG6eSfrZanv",
        "colab_type": "code",
        "colab": {}
      },
      "source": [
        "import pickle \n",
        "\n",
        "with open(\"model.pkl\", \"wb\") as filename:\n",
        "  pickle.dump(classifier, filename)\n",
        "\n",
        "with open(\"tv.pkl\" , \"wb\") as filename:\n",
        "  pickle.dump(tv, filename)"
      ],
      "execution_count": 20,
      "outputs": []
    },
    {
      "cell_type": "markdown",
      "metadata": {
        "id": "bB1vhTbzalmc",
        "colab_type": "text"
      },
      "source": [
        "**Conclusion**\n",
        "\n",
        "Lets compare accuracies by different models\n",
        "\n",
        "**Multinomial NB**\n",
        "\n",
        "Accuracy - 0.8881596937380366\n",
        "\n",
        "**Passive Agressive Classifier**\n",
        "\n",
        "0.0.9207000273448182\n",
        "\n",
        "Thus, it can be clearly seen that both the models Multinomial NB and Passive Agressive Classifier are great for NLP classification problems.\n",
        "Since Passive Agressive gave us a bit more accuracy , we will be chosing it for this specific problem.\n",
        "\n"
      ]
    }
  ]
}